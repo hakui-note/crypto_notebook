{
  "nbformat": 4,
  "nbformat_minor": 0,
  "metadata": {
    "colab": {
      "provenance": [],
      "authorship_tag": "ABX9TyNlx8tTef86IvuJeG48BzJH",
      "include_colab_link": true
    },
    "kernelspec": {
      "name": "python3",
      "display_name": "Python 3"
    },
    "language_info": {
      "name": "python"
    }
  },
  "cells": [
    {
      "cell_type": "markdown",
      "metadata": {
        "id": "view-in-github",
        "colab_type": "text"
      },
      "source": [
        "<a href=\"https://colab.research.google.com/github/hakui-note/crypto_notebook/blob/main/crypto_notebook.ipynb\" target=\"_parent\"><img src=\"https://colab.research.google.com/assets/colab-badge.svg\" alt=\"Open In Colab\"/></a>"
      ]
    },
    {
      "cell_type": "markdown",
      "source": [
        "# 暗号解読一覧"
      ],
      "metadata": {
        "id": "zkZ8Jz9JM8fU"
      }
    },
    {
      "cell_type": "markdown",
      "source": [
        "## シーザー暗号"
      ],
      "metadata": {
        "id": "e_afH5wGNA_x"
      }
    },
    {
      "cell_type": "code",
      "execution_count": null,
      "metadata": {
        "colab": {
          "base_uri": "https://localhost:8080/"
        },
        "id": "8BH3KL9kM3eE",
        "outputId": "bb67de69-7c42-4145-bbe8-7cec32ad306e"
      },
      "outputs": [
        {
          "output_type": "stream",
          "name": "stdout",
          "text": [
            "=== シーザー暗号ツール ===\n",
            "モードを選択してください ((e)ncrypt / (d)ecrypt): e\n",
            "文字列を入力してください: hello\n",
            "シフト数を入力してください (例: 3): 3\n",
            "\n",
            "=== 結果 ===\n",
            "入力文字列: hello\n",
            "出力文字列: khoor\n"
          ]
        }
      ],
      "source": [
        "def caesar_encrypt(plaintext, shift):\n",
        "    result = \"\"\n",
        "    for char in plaintext:\n",
        "        if char.isalpha():\n",
        "            base = ord('A') if char.isupper() else ord('a')\n",
        "            result += chr((ord(char) - base + shift) % 26 + base)\n",
        "        else:\n",
        "            result += char\n",
        "    return result\n",
        "\n",
        "def caesar_decrypt(ciphertext, shift):\n",
        "    return caesar_encrypt(ciphertext, -shift)\n",
        "\n",
        "\n",
        "# ===== 実行部分 =====\n",
        "print(\"=== シーザー暗号ツール ===\")\n",
        "mode = input(\"モードを選択してください ((e)ncrypt / (d)ecrypt): \").strip().lower()\n",
        "text = input(\"文字列を入力してください: \")\n",
        "shift = int(input(\"シフト数を入力してください (例: 3): \"))\n",
        "\n",
        "if mode == \"e\":\n",
        "    output = caesar_encrypt(text, shift)\n",
        "else:\n",
        "    output = caesar_decrypt(text, shift)\n",
        "\n",
        "print(\"\\n=== 結果 ===\")\n",
        "print(\"入力文字列:\", text)\n",
        "print(\"出力文字列:\", output)\n"
      ]
    },
    {
      "cell_type": "markdown",
      "source": [
        "## ヴィジュネル暗号"
      ],
      "metadata": {
        "id": "aTiVkcAgNzsO"
      }
    },
    {
      "cell_type": "code",
      "source": [
        "# === ヴィジュネル暗号 ===\n",
        "\n",
        "def vigenere_encrypt(plaintext, key):\n",
        "    result = \"\"\n",
        "    key = key.lower()\n",
        "    key_index = 0\n",
        "    for char in plaintext:\n",
        "        if char.isalpha():\n",
        "            base = ord('A') if char.isupper() else ord('a')\n",
        "            shift = ord(key[key_index % len(key)]) - ord('a')\n",
        "            result += chr((ord(char) - base + shift) % 26 + base)\n",
        "            key_index += 1\n",
        "        else:\n",
        "            result += char\n",
        "    return result\n",
        "\n",
        "def vigenere_decrypt(ciphertext, key):\n",
        "    result = \"\"\n",
        "    key = key.lower()\n",
        "    key_index = 0\n",
        "    for char in ciphertext:\n",
        "        if char.isalpha():\n",
        "            base = ord('A') if char.isupper() else ord('a')\n",
        "            shift = ord(key[key_index % len(key)]) - ord('a')\n",
        "            result += chr((ord(char) - base - shift) % 26 + base)\n",
        "            key_index += 1\n",
        "        else:\n",
        "            result += char\n",
        "    return result\n",
        "\n",
        "\n",
        "# ===== 実行部分 =====\n",
        "print(\"=== ヴィジュネル暗号ツール ===\")\n",
        "mode = input(\"モードを選択してください ((e)ncrypt / (d)ecrypt): \").strip().lower()\n",
        "text = input(\"文字列を入力してください: \")\n",
        "key = input(\"キー文字列を入力してください (例: KEY): \")\n",
        "\n",
        "if mode == \"e\":\n",
        "    output = vigenere_encrypt(text, key)\n",
        "else:\n",
        "    output = vigenere_decrypt(text, key)\n",
        "\n",
        "print(\"\\n=== 結果 ===\")\n",
        "print(\"入力文字列:\", text)\n",
        "print(\"出力文字列:\", output)\n"
      ],
      "metadata": {
        "colab": {
          "base_uri": "https://localhost:8080/"
        },
        "id": "K_vYTm8eOAO9",
        "outputId": "ebb344bd-8ffb-4585-c1cf-dd1bd720e9cd"
      },
      "execution_count": null,
      "outputs": [
        {
          "output_type": "stream",
          "name": "stdout",
          "text": [
            "=== ヴィジュネル暗号ツール ===\n",
            "モードを選択してください ((e)ncrypt / (d)ecrypt): d\n",
            "文字列を入力してください: rijvs\n",
            "キー文字列を入力してください (例: KEY): key\n",
            "\n",
            "=== 結果 ===\n",
            "入力文字列: rijvs\n",
            "出力文字列: hello\n"
          ]
        }
      ]
    },
    {
      "cell_type": "markdown",
      "source": [
        "## base"
      ],
      "metadata": {
        "id": "DslcyE0fSvNy"
      }
    },
    {
      "cell_type": "markdown",
      "source": [
        "### XOR暗号"
      ],
      "metadata": {
        "id": "JbEEYkNoN33H"
      }
    },
    {
      "cell_type": "code",
      "source": [
        "# === XOR暗号 ===\n",
        "\n",
        "def xor_cipher(text, key):\n",
        "    result = \"\"\n",
        "    for i, char in enumerate(text):\n",
        "        # keyを繰り返し使う\n",
        "        result += chr(ord(char) ^ ord(key[i % len(key)]))\n",
        "    return result\n",
        "\n",
        "\n",
        "# ===== 実行部分 =====\n",
        "print(\"=== XOR暗号ツール ===\")\n",
        "text = input(\"文字列を入力してください: \")\n",
        "key = input(\"キー文字列を入力してください（例: 01000001）: \")\n",
        "\n",
        "output = xor_cipher(text, key)\n",
        "\n",
        "print(\"\\n=== 結果 ===\")\n",
        "print(\"入力文字列:\", text)\n",
        "print(\"出力文字列:\", output)\n"
      ],
      "metadata": {
        "colab": {
          "base_uri": "https://localhost:8080/"
        },
        "id": "rsNw7Cz0N3Mb",
        "outputId": "8066042f-67ac-4cad-ac4c-4ce9393e8822"
      },
      "execution_count": null,
      "outputs": [
        {
          "output_type": "stream",
          "name": "stdout",
          "text": [
            "=== XOR暗号ツール ===\n",
            "モードを選択してください ((e)ncrypt / (d)ecrypt): decrypt\n",
            "文字列を入力してください: XT\\\\_\n",
            "キー文字列を入力してください（例: 01000001）: 01000001\n",
            "\n",
            "=== 結果 ===\n",
            "入力文字列: XT\\\\_\n",
            "出力文字列: hello\n"
          ]
        }
      ]
    },
    {
      "cell_type": "markdown",
      "source": [
        "### base32"
      ],
      "metadata": {
        "id": "KY1uNBTvSUFl"
      }
    },
    {
      "cell_type": "code",
      "source": [
        "import base64\n",
        "\n",
        "# 平文 → Base32\n",
        "def encode_base32(plaintext):\n",
        "    return base64.b32encode(plaintext.encode(\"utf-8\")).decode(\"utf-8\")\n",
        "\n",
        "# Base32 → 平文\n",
        "def decode_base32(encoded_text):\n",
        "    return base64.b32decode(encoded_text.encode(\"utf-8\")).decode(\"utf-8\")\n",
        "\n",
        "# ===== 実行部分 =====\n",
        "print(\"=== Base32エンコード/デコードツール ===\")\n",
        "mode = input(\"モードを選択してください ((e)ncode / (d)ecode): \").strip().lower()\n",
        "text = input(\"文字列を入力してください: \")\n",
        "\n",
        "if mode == \"e\":\n",
        "    output = encode_base32(text)\n",
        "else:\n",
        "    output = decode_base32(text)\n",
        "\n",
        "print(\"\\n=== 結果 ===\")\n",
        "print(\"入力文字列:\", text)\n",
        "print(\"出力文字列:\", output)"
      ],
      "metadata": {
        "id": "-cVKzZCPSzoZ",
        "colab": {
          "base_uri": "https://localhost:8080/"
        },
        "outputId": "d53b3ef0-f282-4dac-84c3-9b44fabfa284"
      },
      "execution_count": 6,
      "outputs": [
        {
          "output_type": "stream",
          "name": "stdout",
          "text": [
            "=== Base32エンコード/デコードツール ===\n",
            "モードを選択してください ((e)ncode / (d)ecode): e\n",
            "文字列を入力してください: hakuinote\n",
            "\n",
            "=== 結果 ===\n",
            "入力文字列: hakuinote\n",
            "出力文字列: NBQWW5LJNZXXIZI=\n"
          ]
        }
      ]
    },
    {
      "cell_type": "markdown",
      "source": [
        "### base64"
      ],
      "metadata": {
        "id": "eqPtNJ8RSW79"
      }
    },
    {
      "cell_type": "code",
      "source": [
        "import base64\n",
        "\n",
        "# 平文 → Base64\n",
        "def encode_base64(plaintext):\n",
        "    return base64.b64encode(plaintext.encode(\"utf-8\")).decode(\"utf-8\")\n",
        "\n",
        "# Base32 → 平文\n",
        "def decode_base64(encoded_text):\n",
        "    return base64.b64decode(encoded_text.encode(\"utf-8\")).decode(\"utf-8\")\n",
        "\n",
        "# ===== 実行部分 =====\n",
        "print(\"=== Base64エンコード/デコードツール ===\")\n",
        "mode = input(\"モードを選択してください ((e)ncode / (d)ecode): \").strip().lower()\n",
        "text = input(\"文字列を入力してください: \")\n",
        "\n",
        "if mode == \"e\":\n",
        "    output = encode_base64(text)\n",
        "else:\n",
        "    output = decode_base64(text)\n",
        "\n",
        "print(\"\\n=== 結果 ===\")\n",
        "print(\"入力文字列:\", text)\n",
        "print(\"出力文字列:\", output)"
      ],
      "metadata": {
        "id": "vp4uy3HPSLgT",
        "colab": {
          "base_uri": "https://localhost:8080/"
        },
        "outputId": "19d63de7-ab85-44e3-fada-afbbb25460a3"
      },
      "execution_count": 4,
      "outputs": [
        {
          "output_type": "stream",
          "name": "stdout",
          "text": [
            "=== Base64エンコード/デコードツール ===\n",
            "モードを選択してください ((e)ncode / (d)ecode): d\n",
            "文字列を入力してください: SEVMTE8=\n",
            "\n",
            "=== 結果 ===\n",
            "入力文字列: SEVMTE8=\n",
            "出力文字列: HELLO\n"
          ]
        }
      ]
    },
    {
      "cell_type": "markdown",
      "source": [
        "**パディングなし**（base64URL版）"
      ],
      "metadata": {
        "id": "c7NXJl_yAwrI"
      }
    },
    {
      "cell_type": "code",
      "source": [
        "import base64\n",
        "\n",
        "# 平文 → Base64（パディングなし）\n",
        "def encode_base64(plaintext):\n",
        "    encoded = base64.urlsafe_b64encode(plaintext.encode(\"utf-8\")).decode(\"utf-8\")\n",
        "    return encoded.rstrip(\"=\")  # パディングを削除\n",
        "\n",
        "# Base32 → 平文\n",
        "def decode_base64(encoded_text):\n",
        "    # パディングを補う（4の倍数になるように \"=\" を追加）\n",
        "    padding = \"=\" * ((4 - len(encoded_text) % 4) % 4)\n",
        "    encoded_text += padding\n",
        "    return base64.urlsafe_b64decode(encoded_text.encode(\"utf-8\")).decode(\"utf-8\")\n",
        "\n",
        "# ===== 実行部分 =====\n",
        "print(\"=== Base64エンコード/デコードツール ===\")\n",
        "mode = input(\"モードを選択してください ((e)ncode / (d)ecode): \").strip().lower()\n",
        "text = input(\"文字列を入力してください: \")\n",
        "\n",
        "if mode == \"e\":\n",
        "    output = encode_base64(text)\n",
        "else:\n",
        "    output = decode_base64(text)\n",
        "\n",
        "print(\"\\n=== 結果 ===\")\n",
        "print(\"入力文字列:\", text)\n",
        "print(\"出力文字列:\", output)"
      ],
      "metadata": {
        "colab": {
          "base_uri": "https://localhost:8080/"
        },
        "outputId": "a2c32397-034d-4b71-8af9-6db7168a09a8",
        "id": "Kfa80BOFA_39"
      },
      "execution_count": 8,
      "outputs": [
        {
          "output_type": "stream",
          "name": "stdout",
          "text": [
            "=== Base64エンコード/デコードツール ===\n",
            "モードを選択してください ((e)ncode / (d)ecode): e\n",
            "文字列を入力してください: HELLO\n",
            "\n",
            "=== 結果 ===\n",
            "入力文字列: HELLO\n",
            "出力文字列: SEVMTE8\n"
          ]
        }
      ]
    }
  ]
}